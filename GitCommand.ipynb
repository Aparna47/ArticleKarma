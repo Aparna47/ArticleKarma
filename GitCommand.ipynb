{
 "cells": [
  {
   "cell_type": "code",
   "execution_count": 6,
   "id": "f66ae64d-7b60-4c27-abfc-426913cc58ae",
   "metadata": {},
   "outputs": [
    {
     "name": "stdout",
     "output_type": "stream",
     "text": [
      "Already up to date.\n"
     ]
    }
   ],
   "source": [
    "!git pull"
   ]
  },
  {
   "cell_type": "code",
   "execution_count": 11,
   "id": "1c4c1488-b3d0-429f-b083-9aa0f7f9a413",
   "metadata": {},
   "outputs": [
    {
     "name": "stdout",
     "output_type": "stream",
     "text": [
      "On branch main\n",
      "Your branch is up to date with 'origin/main'.\n",
      "\n",
      "Changes not staged for commit:\n",
      "  (use \"git add <file>...\" to update what will be committed)\n",
      "  (use \"git restore <file>...\" to discard changes in working directory)\n",
      "\t\u001b[31mmodified:   Week1MLX.ipynb\u001b[m\n",
      "\n",
      "Untracked files:\n",
      "  (use \"git add <file>...\" to include in what will be committed)\n",
      "\t\u001b[31m.gitattributes\u001b[m\n",
      "\t\u001b[31m.ipynb_checkpoints/\u001b[m\n",
      "\n",
      "no changes added to commit (use \"git add\" and/or \"git commit -a\")\n"
     ]
    }
   ],
   "source": [
    "!git status"
   ]
  },
  {
   "cell_type": "code",
   "execution_count": 4,
   "id": "2dba98bd-9d40-47de-a855-82c727f57372",
   "metadata": {},
   "outputs": [],
   "source": [
    "!git add GitCommand.ipynb "
   ]
  },
  {
   "cell_type": "code",
   "execution_count": 9,
   "id": "d3e3ac7a-bdc0-4190-aaf5-ce0f763c3a5b",
   "metadata": {},
   "outputs": [
    {
     "name": "stdout",
     "output_type": "stream",
     "text": [
      "[main a4b6a28] done\n",
      " Committer: Aparna <aparna@Aparnas-MacBook-Pro.local>\n",
      "Your name and email address were configured automatically based\n",
      "on your username and hostname. Please check that they are accurate.\n",
      "You can suppress this message by setting them explicitly:\n",
      "\n",
      "    git config --global user.name \"Your Name\"\n",
      "    git config --global user.email you@example.com\n",
      "\n",
      "After doing this, you may fix the identity used for this commit with:\n",
      "\n",
      "    git commit --amend --reset-author\n",
      "\n",
      " 2 files changed, 219 insertions(+), 5 deletions(-)\n"
     ]
    }
   ],
   "source": [
    "!git commit -a -m done"
   ]
  },
  {
   "cell_type": "code",
   "execution_count": 10,
   "id": "a881839e-d750-45fa-b2b8-75351f63509c",
   "metadata": {},
   "outputs": [
    {
     "name": "stdout",
     "output_type": "stream",
     "text": [
      "Enumerating objects: 7, done.\n",
      "Counting objects: 100% (7/7), done.\n",
      "Delta compression using up to 8 threads\n",
      "Compressing objects: 100% (4/4), done.\n",
      "Writing objects: 100% (4/4), 1.85 KiB | 1.85 MiB/s, done.\n",
      "Total 4 (delta 2), reused 0 (delta 0), pack-reused 0\n",
      "remote: Resolving deltas: 100% (2/2), completed with 2 local objects.\u001b[K\n",
      "To github.com:Aparna47/ArticleKarma.git\n",
      "   4657750..a4b6a28  main -> main\n"
     ]
    }
   ],
   "source": [
    "!git push"
   ]
  },
  {
   "cell_type": "code",
   "execution_count": 3,
   "id": "918711ef-0af1-4c09-8aa7-683eaa188936",
   "metadata": {},
   "outputs": [],
   "source": [
    "!git add Work2VecInput.ipynb"
   ]
  },
  {
   "cell_type": "code",
   "execution_count": 4,
   "id": "73d30473-b847-42dd-acb1-632b8134de8d",
   "metadata": {},
   "outputs": [
    {
     "name": "stdout",
     "output_type": "stream",
     "text": [
      "[main 2356b04] done\n",
      " Committer: Aparna <aparna@Aparnas-MacBook-Pro.local>\n",
      "Your name and email address were configured automatically based\n",
      "on your username and hostname. Please check that they are accurate.\n",
      "You can suppress this message by setting them explicitly. Run the\n",
      "following command and follow the instructions in your editor to edit\n",
      "your configuration file:\n",
      "\n",
      "    git config --global --edit\n",
      "\n",
      "After doing this, you may fix the identity used for this commit with:\n",
      "\n",
      "    git commit --amend --reset-author\n",
      "\n",
      " 1 file changed, 248 insertions(+)\n",
      " create mode 100644 Work2VecInput.ipynb\n"
     ]
    }
   ],
   "source": [
    "!git commit -m done"
   ]
  },
  {
   "cell_type": "code",
   "execution_count": 5,
   "id": "2805831d-d288-498a-8692-b7cb44f48abb",
   "metadata": {},
   "outputs": [
    {
     "name": "stdout",
     "output_type": "stream",
     "text": [
      "Enumerating objects: 4, done.\n",
      "Counting objects: 100% (4/4), done.\n",
      "Delta compression using up to 8 threads\n",
      "Compressing objects: 100% (3/3), done.\n",
      "Writing objects: 100% (3/3), 2.86 KiB | 2.86 MiB/s, done.\n",
      "Total 3 (delta 1), reused 0 (delta 0), pack-reused 0\n",
      "remote: Resolving deltas: 100% (1/1), completed with 1 local object.\u001b[K\n",
      "To github.com:Aparna47/ArticleKarma.git\n",
      "   3cfb1f2..2356b04  main -> main\n"
     ]
    }
   ],
   "source": [
    "!git push"
   ]
  },
  {
   "cell_type": "code",
   "execution_count": 17,
   "id": "95457b8f-e1f6-4811-9b2a-a637b44e2a81",
   "metadata": {},
   "outputs": [
    {
     "name": "stdout",
     "output_type": "stream",
     "text": [
      "Updating 5b4050a..2402247\n",
      "Fast-forward\n",
      " w2v/.gitattributes          |   1 \u001b[32m+\u001b[m\n",
      " w2v/EvalWord2Vec.ipynb      |  51 \u001b[32m++++++++++++++\u001b[m\u001b[31m-------\u001b[m\n",
      " w2v/lib8/word2vec.py        | 106 \u001b[32m+++++++++++++++++++++++++++++++++++++\u001b[m\u001b[31m-------\u001b[m\n",
      " w2v/word2vec_pytorch_50.pth | Bin \u001b[31m88456919\u001b[m -> \u001b[32m133\u001b[m bytes\n",
      " 4 files changed, 127 insertions(+), 31 deletions(-)\n",
      " create mode 100644 w2v/.gitattributes\n"
     ]
    }
   ],
   "source": [
    "!git pull"
   ]
  },
  {
   "cell_type": "code",
   "execution_count": 16,
   "id": "49600645-4652-4538-a6ff-75512e38a4de",
   "metadata": {},
   "outputs": [
    {
     "name": "stdout",
     "output_type": "stream",
     "text": [
      "Saved working directory and index state WIP on main: 5b4050a update for cpu\n"
     ]
    }
   ],
   "source": [
    "!git stash "
   ]
  },
  {
   "cell_type": "code",
   "execution_count": 18,
   "id": "6d936211-a2c6-4cba-88d1-f50f0506ad30",
   "metadata": {},
   "outputs": [
    {
     "name": "stdout",
     "output_type": "stream",
     "text": [
      "error: Your local changes to the following files would be overwritten by merge:\n",
      "\tGitCommand.ipynb\n",
      "Please commit your changes or stash them before you merge.\n",
      "Aborting\n",
      "On branch main\n",
      "Your branch is up to date with 'origin/main'.\n",
      "\n",
      "Changes not staged for commit:\n",
      "  (use \"git add <file>...\" to update what will be committed)\n",
      "  (use \"git restore <file>...\" to discard changes in working directory)\n",
      "\t\u001b[31mmodified:   GitCommand.ipynb\u001b[m\n",
      "\n",
      "no changes added to commit (use \"git add\" and/or \"git commit -a\")\n",
      "The stash entry is kept in case you need it again.\n"
     ]
    }
   ],
   "source": [
    "!git stash pop"
   ]
  },
  {
   "cell_type": "code",
   "execution_count": null,
   "id": "7a0fa942-f382-4e60-af61-2440308256a7",
   "metadata": {},
   "outputs": [],
   "source": [
    "!git commit -a -m done"
   ]
  },
  {
   "cell_type": "code",
   "execution_count": null,
   "id": "e30f52d3-4c28-42cf-a204-4d0afe09e8c4",
   "metadata": {},
   "outputs": [],
   "source": [
    "!git stash pop"
   ]
  },
  {
   "cell_type": "code",
   "execution_count": null,
   "id": "c4bc340e-9a2b-4281-b23b-8edbc68d70d9",
   "metadata": {},
   "outputs": [],
   "source": [
    "!git commit -a -m done"
   ]
  }
 ],
 "metadata": {
  "kernelspec": {
   "display_name": "Python 3 (ipykernel)",
   "language": "python",
   "name": "python3"
  },
  "language_info": {
   "codemirror_mode": {
    "name": "ipython",
    "version": 3
   },
   "file_extension": ".py",
   "mimetype": "text/x-python",
   "name": "python",
   "nbconvert_exporter": "python",
   "pygments_lexer": "ipython3",
   "version": "3.12.10"
  }
 },
 "nbformat": 4,
 "nbformat_minor": 5
}
