{
 "cells": [
  {
   "cell_type": "code",
   "execution_count": 1,
   "id": "903f0823-6da6-4d85-a9c7-13b132c062b5",
   "metadata": {},
   "outputs": [],
   "source": [
    "import gensim.downloader as api\n",
    "from gensim.models import KeyedVectors\n"
   ]
  },
  {
   "cell_type": "code",
   "execution_count": 3,
   "id": "76561a08-3927-43a0-9509-e005a544d424",
   "metadata": {},
   "outputs": [],
   "source": [
    "model = api.load(\"glove-wiki-gigaword-100\")  # ~128MB\n"
   ]
  },
  {
   "cell_type": "code",
   "execution_count": 5,
   "id": "e813442e-ec8a-4aa3-a255-1d0e8066c3cd",
   "metadata": {},
   "outputs": [
    {
     "name": "stdout",
     "output_type": "stream",
     "text": [
      "[('prince', 0.7682329416275024), ('queen', 0.7507689595222473), ('son', 0.7020888328552246), ('brother', 0.6985775828361511), ('monarch', 0.6977890729904175), ('throne', 0.691999077796936), ('kingdom', 0.6811410188674927), ('father', 0.6802029013633728), ('emperor', 0.6712858080863953), ('ii', 0.6676074266433716)]\n"
     ]
    }
   ],
   "source": [
    "print(model.most_similar('king'))"
   ]
  },
  {
   "cell_type": "code",
   "execution_count": 7,
   "id": "6551abad-14e8-40e5-b828-283876011d80",
   "metadata": {},
   "outputs": [
    {
     "name": "stdout",
     "output_type": "stream",
     "text": [
      "king - man + woman = ('queen', 0.7698541283607483)\n"
     ]
    }
   ],
   "source": [
    "# Analogy test: king - man + woman = ?\n",
    "result = model.most_similar(positive=['king', 'woman'], negative=['man'])\n",
    "\n",
    "# Print top result\n",
    "print(\"king - man + woman =\", result[0])\n"
   ]
  },
  {
   "cell_type": "code",
   "execution_count": null,
   "id": "39528f0c-0df1-4773-bd8d-877cc8f70692",
   "metadata": {},
   "outputs": [],
   "source": []
  }
 ],
 "metadata": {
  "kernelspec": {
   "display_name": "Python [conda env:base] *",
   "language": "python",
   "name": "conda-base-py"
  },
  "language_info": {
   "codemirror_mode": {
    "name": "ipython",
    "version": 3
   },
   "file_extension": ".py",
   "mimetype": "text/x-python",
   "name": "python",
   "nbconvert_exporter": "python",
   "pygments_lexer": "ipython3",
   "version": "3.12.7"
  }
 },
 "nbformat": 4,
 "nbformat_minor": 5
}
