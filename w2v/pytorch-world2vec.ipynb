{
 "cells": [
  {
   "cell_type": "code",
   "execution_count": 4,
   "id": "319f8442-2c2e-427c-84cd-184698f8c199",
   "metadata": {},
   "outputs": [
    {
     "name": "stdout",
     "output_type": "stream",
     "text": [
      "The autoreload extension is already loaded. To reload it, use:\n",
      "  %reload_ext autoreload\n",
      "\u001b[2mUsing Python 3.12.10 environment at: /home/m/priv/opencv/4.11.0-Release/venv-py3\u001b[0m\n",
      "\u001b[2K\u001b[2mResolved \u001b[1m1 package\u001b[0m \u001b[2min 3ms\u001b[0m\u001b[0m                                            \u001b[0m\n",
      "\u001b[2K\u001b[2mPrepared \u001b[1m1 package\u001b[0m \u001b[2min 953ms\u001b[0m\u001b[0m                                              \n",
      "\u001b[2mUninstalled \u001b[1m1 package\u001b[0m \u001b[2min 0.99ms\u001b[0m\u001b[0m\n",
      "\u001b[2K\u001b[2mInstalled \u001b[1m1 package\u001b[0m \u001b[2min 0.86ms\u001b[0m\u001b[0m:///home/m/priv/opencv/ml)     \u001b[0m\n",
      " \u001b[33m~\u001b[39m \u001b[1mlib8\u001b[0m\u001b[2m==0.0.1 (from file:///home/m/priv/opencv/ml)\u001b[0m\n"
     ]
    }
   ],
   "source": [
    "%load_ext autoreload\n",
    "%autoreload 2\n",
    "!uv pip install ."
   ]
  },
  {
   "cell_type": "code",
   "execution_count": null,
   "id": "e5363fa8-d8e6-4dea-ad34-61d2eabab3f0",
   "metadata": {},
   "outputs": [
    {
     "name": "stdout",
     "output_type": "stream",
     "text": [
      "Primary device: cuda:0\n",
      "Number of available CPU cores: 96\n",
      "Using 2 GPUs: [0, 1]\n",
      "Starting training...\n"
     ]
    },
    {
     "name": "stderr",
     "output_type": "stream",
     "text": [
      "Epoch 1/200: 3014it [26:04,  1.93it/s, loss=6.9610 Average Loss: 7.0446]\n"
     ]
    },
    {
     "name": "stdout",
     "output_type": "stream",
     "text": [
      "End of Epoch 1\n",
      "Model checkpoint saved successfully to 'word2vec_pytorch_50.pth'.\n"
     ]
    },
    {
     "name": "stderr",
     "output_type": "stream",
     "text": [
      "Epoch 2/200: 3015it [26:03,  1.93it/s, loss=6.9553 Average Loss: 7.0241]\n"
     ]
    },
    {
     "name": "stdout",
     "output_type": "stream",
     "text": [
      "End of Epoch 2\n",
      "Model checkpoint saved successfully to 'word2vec_pytorch_50.pth'.\n"
     ]
    },
    {
     "name": "stderr",
     "output_type": "stream",
     "text": [
      "Epoch 3/200: 3014it [26:03,  1.93it/s, loss=6.9452 Average Loss: 7.0148]\n"
     ]
    },
    {
     "name": "stdout",
     "output_type": "stream",
     "text": [
      "End of Epoch 3\n",
      "Model checkpoint saved successfully to 'word2vec_pytorch_50.pth'.\n"
     ]
    },
    {
     "name": "stderr",
     "output_type": "stream",
     "text": [
      "Epoch 4/200: 3014it [26:03,  1.93it/s, loss=7.0282 Average Loss: 7.0081]\n"
     ]
    },
    {
     "name": "stdout",
     "output_type": "stream",
     "text": [
      "End of Epoch 4\n",
      "Model checkpoint saved successfully to 'word2vec_pytorch_50.pth'.\n"
     ]
    },
    {
     "name": "stderr",
     "output_type": "stream",
     "text": [
      "Epoch 5/200: 3014it [26:03,  1.93it/s, loss=7.0270 Average Loss: 7.0029]\n"
     ]
    },
    {
     "name": "stdout",
     "output_type": "stream",
     "text": [
      "End of Epoch 5\n",
      "Model checkpoint saved successfully to 'word2vec_pytorch_50.pth'.\n"
     ]
    },
    {
     "name": "stderr",
     "output_type": "stream",
     "text": [
      "Epoch 6/200: 3014it [26:03,  1.93it/s, loss=6.9725 Average Loss: 6.9984]\n"
     ]
    },
    {
     "name": "stdout",
     "output_type": "stream",
     "text": [
      "End of Epoch 6\n",
      "Model checkpoint saved successfully to 'word2vec_pytorch_50.pth'.\n"
     ]
    },
    {
     "name": "stderr",
     "output_type": "stream",
     "text": [
      "Epoch 7/200: 3014it [26:03,  1.93it/s, loss=6.9065 Average Loss: 6.9944]\n"
     ]
    },
    {
     "name": "stdout",
     "output_type": "stream",
     "text": [
      "End of Epoch 7\n",
      "Model checkpoint saved successfully to 'word2vec_pytorch_50.pth'.\n"
     ]
    },
    {
     "name": "stderr",
     "output_type": "stream",
     "text": [
      "Epoch 8/200: 3014it [26:03,  1.93it/s, loss=6.9834 Average Loss: 6.9909]\n"
     ]
    },
    {
     "name": "stdout",
     "output_type": "stream",
     "text": [
      "End of Epoch 8\n",
      "Model checkpoint saved successfully to 'word2vec_pytorch_50.pth'.\n"
     ]
    },
    {
     "name": "stderr",
     "output_type": "stream",
     "text": [
      "Epoch 9/200: 3015it [26:03,  1.93it/s, loss=6.9979 Average Loss: 6.9879]\n"
     ]
    },
    {
     "name": "stdout",
     "output_type": "stream",
     "text": [
      "End of Epoch 9\n",
      "Model checkpoint saved successfully to 'word2vec_pytorch_50.pth'.\n"
     ]
    },
    {
     "name": "stderr",
     "output_type": "stream",
     "text": [
      "Epoch 10/200: 3015it [26:03,  1.93it/s, loss=6.9845 Average Loss: 6.9849]\n"
     ]
    },
    {
     "name": "stdout",
     "output_type": "stream",
     "text": [
      "End of Epoch 10\n",
      "Model checkpoint saved successfully to 'word2vec_pytorch_50.pth'.\n"
     ]
    },
    {
     "name": "stderr",
     "output_type": "stream",
     "text": [
      "Epoch 11/200: 3014it [26:04,  1.93it/s, loss=6.9568 Average Loss: 6.9820]\n"
     ]
    },
    {
     "name": "stdout",
     "output_type": "stream",
     "text": [
      "End of Epoch 11\n",
      "Model checkpoint saved successfully to 'word2vec_pytorch_50.pth'.\n"
     ]
    },
    {
     "name": "stderr",
     "output_type": "stream",
     "text": [
      "Epoch 12/200: 3014it [26:02,  1.93it/s, loss=7.0109 Average Loss: 6.9795]\n"
     ]
    },
    {
     "name": "stdout",
     "output_type": "stream",
     "text": [
      "End of Epoch 12\n",
      "Model checkpoint saved successfully to 'word2vec_pytorch_50.pth'.\n"
     ]
    },
    {
     "name": "stderr",
     "output_type": "stream",
     "text": [
      "Epoch 13/200: 3014it [26:02,  1.93it/s, loss=6.9489 Average Loss: 6.9770]\n"
     ]
    },
    {
     "name": "stdout",
     "output_type": "stream",
     "text": [
      "End of Epoch 13\n",
      "Model checkpoint saved successfully to 'word2vec_pytorch_50.pth'.\n"
     ]
    },
    {
     "name": "stderr",
     "output_type": "stream",
     "text": [
      "Epoch 14/200: 3015it [26:03,  1.93it/s, loss=7.0500 Average Loss: 6.9748]\n"
     ]
    },
    {
     "name": "stdout",
     "output_type": "stream",
     "text": [
      "End of Epoch 14\n",
      "Model checkpoint saved successfully to 'word2vec_pytorch_50.pth'.\n"
     ]
    },
    {
     "name": "stderr",
     "output_type": "stream",
     "text": [
      "Epoch 15/200: 3014it [26:02,  1.93it/s, loss=6.9910 Average Loss: 6.9726]\n"
     ]
    },
    {
     "name": "stdout",
     "output_type": "stream",
     "text": [
      "End of Epoch 15\n",
      "Model checkpoint saved successfully to 'word2vec_pytorch_50.pth'.\n"
     ]
    },
    {
     "name": "stderr",
     "output_type": "stream",
     "text": [
      "Epoch 16/200: 3014it [26:02,  1.93it/s, loss=6.9593 Average Loss: 6.9707]\n"
     ]
    },
    {
     "name": "stdout",
     "output_type": "stream",
     "text": [
      "End of Epoch 16\n",
      "Model checkpoint saved successfully to 'word2vec_pytorch_50.pth'.\n"
     ]
    },
    {
     "name": "stderr",
     "output_type": "stream",
     "text": [
      "Epoch 17/200: 3014it [26:03,  1.93it/s, loss=6.9753 Average Loss: 6.9685]\n"
     ]
    },
    {
     "name": "stdout",
     "output_type": "stream",
     "text": [
      "End of Epoch 17\n",
      "Model checkpoint saved successfully to 'word2vec_pytorch_50.pth'.\n"
     ]
    },
    {
     "name": "stderr",
     "output_type": "stream",
     "text": [
      "Epoch 18/200: 3014it [26:03,  1.93it/s, loss=6.9017 Average Loss: 6.9666]\n"
     ]
    },
    {
     "name": "stdout",
     "output_type": "stream",
     "text": [
      "End of Epoch 18\n",
      "Model checkpoint saved successfully to 'word2vec_pytorch_50.pth'.\n"
     ]
    },
    {
     "name": "stderr",
     "output_type": "stream",
     "text": [
      "Epoch 19/200: 3014it [26:02,  1.93it/s, loss=6.9295 Average Loss: 6.9647]\n"
     ]
    },
    {
     "name": "stdout",
     "output_type": "stream",
     "text": [
      "End of Epoch 19\n",
      "Model checkpoint saved successfully to 'word2vec_pytorch_50.pth'.\n"
     ]
    },
    {
     "name": "stderr",
     "output_type": "stream",
     "text": [
      "Epoch 20/200: 3015it [26:03,  1.93it/s, loss=6.9923 Average Loss: 6.9634]\n"
     ]
    },
    {
     "name": "stdout",
     "output_type": "stream",
     "text": [
      "End of Epoch 20\n",
      "Model checkpoint saved successfully to 'word2vec_pytorch_50.pth'.\n"
     ]
    },
    {
     "name": "stderr",
     "output_type": "stream",
     "text": [
      "Epoch 21/200: 3014it [26:02,  1.93it/s, loss=7.0277 Average Loss: 6.9615]\n"
     ]
    },
    {
     "name": "stdout",
     "output_type": "stream",
     "text": [
      "End of Epoch 21\n",
      "Model checkpoint saved successfully to 'word2vec_pytorch_50.pth'.\n"
     ]
    },
    {
     "name": "stderr",
     "output_type": "stream",
     "text": [
      "Epoch 22/200: 3014it [26:04,  1.93it/s, loss=6.9879 Average Loss: 6.9598]\n"
     ]
    },
    {
     "name": "stdout",
     "output_type": "stream",
     "text": [
      "End of Epoch 22\n",
      "Model checkpoint saved successfully to 'word2vec_pytorch_50.pth'.\n"
     ]
    },
    {
     "name": "stderr",
     "output_type": "stream",
     "text": [
      "Epoch 23/200: 3014it [26:04,  1.93it/s, loss=6.9825 Average Loss: 6.9581]\n"
     ]
    },
    {
     "name": "stdout",
     "output_type": "stream",
     "text": [
      "End of Epoch 23\n",
      "Model checkpoint saved successfully to 'word2vec_pytorch_50.pth'.\n"
     ]
    },
    {
     "name": "stderr",
     "output_type": "stream",
     "text": [
      "Epoch 24/200: 939it [08:08,  1.93it/s, loss=7.1712 Average Loss: 6.9632]IOPub message rate exceeded.\n",
      "The Jupyter server will temporarily stop sending output\n",
      "to the client in order to avoid crashing it.\n",
      "To change this limit, set the config variable\n",
      "`--ServerApp.iopub_msg_rate_limit`.\n",
      "\n",
      "Current values:\n",
      "ServerApp.iopub_msg_rate_limit=1000.0 (msgs/sec)\n",
      "ServerApp.rate_limit_window=3.0 (secs)\n",
      "\n",
      "Epoch 28/200: 3014it [26:04,  1.93it/s, loss=7.0406 Average Loss: 6.9511]\n"
     ]
    },
    {
     "name": "stdout",
     "output_type": "stream",
     "text": [
      "End of Epoch 28\n",
      "Model checkpoint saved successfully to 'word2vec_pytorch_50.pth'.\n"
     ]
    },
    {
     "name": "stderr",
     "output_type": "stream",
     "text": [
      "Epoch 29/200: 170it [01:29,  1.93it/s, loss=7.1527 Average Loss: 6.9315]"
     ]
    }
   ],
   "source": [
    "\n",
    "from collections import Counter\n",
    "from lib8 import stream_sentences, Word2Vec, create_skipgram_generator, create_skipgram_batch_generator\n",
    "# import lib8\n",
    "import torch\n",
    "import torch.nn as nn\n",
    "import torch.optim as optim\n",
    "import numpy as np\n",
    "import os\n",
    "from tqdm import tqdm # For a nice progress bar\n",
    "\n",
    "device_ids = [0, 1] # Use the first two GPUs\n",
    "device = torch.device(f\"cuda:{device_ids[0]}\" if torch.cuda.is_available() else \"cpu\")\n",
    "print(f\"Primary device: {device}\")\n",
    "\n",
    "# --- Parameters ---\n",
    "file_path = \"text8\"\n",
    "min_count = 5 # As in your original gensim code\n",
    "\n",
    "\n",
    "# --- Training Parameters ---\n",
    "batch_size = 1024  * 32 # <--- NEW! Start with a power of 2 and increase based on VRAM\n",
    "embedding_dim = 50\n",
    "learning_rate = 0.001\n",
    "epochs = 200 # Note: One epoch over text8 is very long!\n",
    "window_size = 5\n",
    "num_cpu_cores = os.cpu_count()\n",
    "print(f\"Number of available CPU cores: {num_cpu_cores}\")\n",
    "\n",
    "# --- Initialize Model, Loss, and Optimizer ---\n",
    "MODEL_PATH = f\"word2vec_pytorch_{embedding_dim}.pth\"\n",
    "if os.path.exists(MODEL_PATH):\n",
    "    model = Word2Vec.load_from_checkpoint(MODEL_PATH)\n",
    "else:\n",
    "    # --- Vocabulary Creation ---\n",
    "    print(\"Building vocabulary...\")\n",
    "    # Note: This will iterate through the entire file once to build the vocab\n",
    "    word_counts = Counter(word for sentence in stream_sentences(file_path) for word in sentence)\n",
    "    vocab = [word for word, count in word_counts.items() if count >= min_count]\n",
    "    word_to_ix = {word: i for i, word in enumerate(vocab)}\n",
    "    ix_to_word = {i: word for i, word in enumerate(vocab)}\n",
    "    vocab_size = len(vocab)\n",
    "\n",
    "    print(f\"Vocabulary size: {vocab_size}\")\n",
    "    model = Word2Vec(vocab_size, embedding_dim, word_to_ix, ix_to_word)\n",
    "\n",
    "if torch.cuda.device_count() > 1:\n",
    "  print(f\"Using {len(device_ids)} GPUs: {device_ids}\")\n",
    "  model = nn.DataParallel(model, device_ids=device_ids)\n",
    "model.to(device)\n",
    "\n",
    "\n",
    "loss_function = nn.CrossEntropyLoss()\n",
    "optimizer = optim.Adam(model.parameters(), lr=learning_rate)\n",
    "\n",
    "# --- Training Loop using the Generator ---\n",
    "print(\"Starting training...\")\n",
    "for epoch in range(epochs):\n",
    "    batch_generator = create_skipgram_batch_generator(file_path, model.module.word_to_ix, window_size, batch_size)\n",
    "    progress_bar = tqdm(batch_generator, desc=f\"Epoch {epoch+1}/{epochs}\")\n",
    "\n",
    "    total_loss = 0\n",
    "    num_pairs = 0\n",
    "    \n",
    "    for target_batch, context_batch in progress_bar:\n",
    "        target_batch = target_batch.to(device)\n",
    "        context_batch = context_batch.to(device)\n",
    "\n",
    "        optimizer.zero_grad()\n",
    "        scores = model(target_batch)\n",
    "        loss = loss_function(scores, context_batch)\n",
    "        \n",
    "        # You DO NOT need loss.mean() here. DataParallel handles the loss gathering automatically.\n",
    "        # The output loss is already a mean-reduced scalar on the primary device.\n",
    "        \n",
    "        loss.backward()\n",
    "        optimizer.step()\n",
    "        total_loss += loss.item()\n",
    "        num_pairs += 1\n",
    "        progress_bar.set_postfix({\"loss\": f\"{loss.item():.4f} Average Loss: {total_loss/num_pairs:.4f}\"})\n",
    "        # model.module.save_checkpoint(MODEL_PATH, optimizer=optimizer, epoch=epochs)\n",
    "        # break\n",
    "    \n",
    "    print(f\"End of Epoch {epoch+1}\")\n",
    "    model.module.save_checkpoint(MODEL_PATH, optimizer=optimizer, epoch=epochs)\n",
    "\n",
    "\n",
    "print(\"Model training complete.\")\n"
   ]
  },
  {
   "cell_type": "code",
   "execution_count": 7,
   "id": "1423f3f7-b021-432d-ac21-1c0e27ed4e82",
   "metadata": {},
   "outputs": [
    {
     "name": "stdout",
     "output_type": "stream",
     "text": [
      "total 2434896\n",
      "drwxrwxr-x 4 m m      4096 Jun 11 15:57 build\n",
      "drwxrwxr-x 4 m m      4096 Jun 11 15:58 lib8\n",
      "drwxrwxr-x 2 m m      4096 Jun 11 15:58 lib8.egg-info\n",
      "drwxrwxr-x 2 m m      4096 Jun 11 11:08 __pycache__\n",
      "-rw-rw-r-- 1 m m       206 Jun 11 12:09 pyproject.toml\n",
      "-rw-rw-r-- 1 m m     17866 Jun 11 16:04 pytorch-world2vec.ipynb\n",
      "-rw-rw-r-- 1 m m 572338061 Jun 10 16:28 RelevantDataScrape.csv\n",
      "-rw-rw-r-- 1 m m 753076320 Jun  9 22:26 Result_23.csv\n",
      "-rw-rw-r-- 1 m m 801608149 Jun 10 12:10 Result_by.csv\n",
      "-rw-rw-r-- 1 m m 100000000 Jun  9 22:38 text8\n",
      "-rw-rw-r-- 1 m m     53166 Jun 11 11:08 Untitled.ipynb\n",
      "-rw-rw-r-- 1 m m     20884 Jun 10 16:03 Week1-day1.ipynb\n",
      "-rw-rw-r-- 1 m m     48939 Jun 10 21:16 Week1MLX.ipynb\n",
      "-rw-rw-r-- 1 m m  88456919 Jun 11 16:04 word2vec_pytorch_50.pth\n",
      "-rw-rw-r-- 1 m m  59217970 Jun 10 15:05 word2vec_text8_cbow.model\n",
      "-rw-rw-r-- 1 m m  59217963 Jun 10 14:49 word2vec_text8_sg.model\n",
      "-rw-rw-r-- 1 m m  59217971 Jun 10 15:12 word2vec_text8_skip.model\n"
     ]
    }
   ],
   "source": [
    "# !uv pip install tqdm\n",
    "!ls -l"
   ]
  },
  {
   "cell_type": "code",
   "execution_count": null,
   "id": "6cccb4c5-35a8-4bae-a2dd-926b2e4e890a",
   "metadata": {},
   "outputs": [],
   "source": [
    "# print(\"Saving the model state dictionary...\")\n",
    "# MODEL_PATH = \"word2vec_pytorch_skipgram.pth\"\n",
    "# torch.save(model.state_dict(), MODEL_PATH)\n",
    "# print(f\"Model state_dict saved to {MODEL_PATH}\")"
   ]
  }
 ],
 "metadata": {
  "kernelspec": {
   "display_name": "Python 3 (ipykernel)",
   "language": "python",
   "name": "python3"
  },
  "language_info": {
   "codemirror_mode": {
    "name": "ipython",
    "version": 3
   },
   "file_extension": ".py",
   "mimetype": "text/x-python",
   "name": "python",
   "nbconvert_exporter": "python",
   "pygments_lexer": "ipython3",
   "version": "3.12.10"
  }
 },
 "nbformat": 4,
 "nbformat_minor": 5
}
