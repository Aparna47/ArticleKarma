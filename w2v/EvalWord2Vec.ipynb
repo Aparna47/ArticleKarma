{
 "cells": [
  {
   "cell_type": "code",
   "execution_count": 2,
   "id": "02f35859-f00f-4327-9cee-d0eca87d2efb",
   "metadata": {},
   "outputs": [
    {
     "name": "stdout",
     "output_type": "stream",
     "text": [
      "\u001b[2mUsing Python 3.12.10 environment at: /home/m/priv/opencv/4.11.0-Release/venv-py3\u001b[0m\n",
      "\u001b[2K\u001b[2mResolved \u001b[1m1 package\u001b[0m \u001b[2min 2ms\u001b[0m\u001b[0m                                            \u001b[0m\n",
      "\u001b[2K\u001b[2mPrepared \u001b[1m1 package\u001b[0m \u001b[2min 964ms\u001b[0m\u001b[0m                                              \n",
      "\u001b[2mUninstalled \u001b[1m1 package\u001b[0m \u001b[2min 1ms\u001b[0m\u001b[0m\n",
      "\u001b[2K\u001b[2mInstalled \u001b[1m1 package\u001b[0m \u001b[2min 1ms\u001b[0m\u001b[0mile:///home/m/priv/opencv/ml)     \u001b[0m\n",
      " \u001b[33m~\u001b[39m \u001b[1mlib8\u001b[0m\u001b[2m==0.0.1 (from file:///home/m/priv/opencv/ml)\u001b[0m\n"
     ]
    }
   ],
   "source": [
    "%load_ext autoreload\n",
    "%autoreload 2\n",
    "!uv pip install ."
   ]
  },
  {
   "cell_type": "code",
   "execution_count": 2,
   "id": "47c791ed-ad6f-4388-b6d4-0bcfe0075526",
   "metadata": {},
   "outputs": [
    {
     "name": "stdout",
     "output_type": "stream",
     "text": [
      "------------------------------\n",
      "france               0.8632\n",
      "japan                0.6370\n",
      "china                0.6345\n",
      "india                0.6234\n",
      "kingdom              0.6117\n",
      "soviet               0.6026\n",
      "canada               0.5931\n",
      "union                0.5913\n",
      "ii                   0.5895\n",
      "russia               0.5864\n",
      "------------------------------\n"
     ]
    }
   ],
   "source": [
    "from lib8 import stream_sentences, Word2Vec, create_skipgram_generator, create_skipgram_batch_generator\n",
    "import torch\n",
    "\n",
    "embedding_dim = 50\n",
    "device_ids = [0, 1] # Use the first two GPUs\n",
    "device = torch.device(f\"cuda:{device_ids[0]}\" if torch.cuda.is_available() else \"cpu\")\n",
    "\n",
    "# --- Initialize Model, Loss, and Optimizer ---\n",
    "MODEL_PATH = f\"word2vec_pytorch_{embedding_dim}.pth\"\n",
    "\n",
    "model = Word2Vec.load_from_checkpoint(MODEL_PATH)\n",
    "model.eval()\n",
    "\n",
    "# Example usage:\n",
    "similar_words = model.find_most_similar('germany', top_n=10)\n",
    "# similar_words = model.find_most_similar('computer', top_n=10)\n",
    "\n",
    "if similar_words:\n",
    "    print(\"-\" * 30)\n",
    "    for word, score in similar_words:\n",
    "        print(f\"{word:<20} {score:.4f}\")\n",
    "    print(\"-\" * 30)"
   ]
  },
  {
   "cell_type": "code",
   "execution_count": null,
   "id": "df0b1147-6fa0-4c63-a6fa-9e659e86ee35",
   "metadata": {},
   "outputs": [],
   "source": [
    "------------------------------4\n",
    "system               0.9449\n",
    "program              0.9440\n",
    "standard             0.9371\n",
    "design               0.9325\n",
    "other                0.9299\n",
    "music                0.9292\n",
    "like                 0.9292\n",
    "include              0.9291\n",
    "information          0.9254\n",
    "modern               0.9249\n",
    "------------------------------"
   ]
  }
 ],
 "metadata": {
  "kernelspec": {
   "display_name": "Python 3 (ipykernel)",
   "language": "python",
   "name": "python3"
  },
  "language_info": {
   "codemirror_mode": {
    "name": "ipython",
    "version": 3
   },
   "file_extension": ".py",
   "mimetype": "text/x-python",
   "name": "python",
   "nbconvert_exporter": "python",
   "pygments_lexer": "ipython3",
   "version": "3.12.10"
  }
 },
 "nbformat": 4,
 "nbformat_minor": 5
}
