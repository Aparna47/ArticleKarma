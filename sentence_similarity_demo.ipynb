{
 "cells": [
  {
   "cell_type": "code",
   "execution_count": 1,
   "id": "903f0823-6da6-4d85-a9c7-13b132c062b5",
   "metadata": {},
   "outputs": [],
   "source": [
    "import gensim.downloader as api\n",
    "import numpy as np\n",
    "import re\n",
    "from numpy.linalg import norm"
   ]
  },
  {
   "cell_type": "code",
   "execution_count": 2,
   "id": "76561a08-3927-43a0-9509-e005a544d424",
   "metadata": {},
   "outputs": [],
   "source": [
    "model = api.load(\"glove-wiki-gigaword-100\")  # ~128MB\n"
   ]
  },
  {
   "cell_type": "code",
   "execution_count": 5,
   "id": "bb3e803e-e214-4708-9740-d531dd908905",
   "metadata": {},
   "outputs": [],
   "source": [
    "def sentence_vector(sentence, model):\n",
    "    \"\"\"\n",
    "    Computes the average Word2Vec vector for a given sentence.\n",
    "    \n",
    "    Parameters:\n",
    "    - sentence: list of words (tokens)\n",
    "    - model: gensim Word2Vec or KeyedVectors\n",
    "    \n",
    "    Returns:\n",
    "    - np.array: averaged vector\n",
    "    \"\"\"\n",
    "    vectors = [model[word] for word in sentence if word in model.key_to_index]\n",
    "    if not vectors:\n",
    "        return np.zeros(model.vector_size)\n",
    "    return np.mean(vectors, axis=0)"
   ]
  },
  {
   "cell_type": "code",
   "execution_count": 7,
   "id": "7432736d-56a6-4539-8728-aac26de960a5",
   "metadata": {},
   "outputs": [],
   "source": [
    "def preprocess(text):\n",
    "    # Basic preprocessing: lowercase + simple tokenisation\n",
    "    text = text.lower()\n",
    "    tokens = re.findall(r'\\b\\w+\\b', text)\n",
    "    return tokens"
   ]
  },
  {
   "cell_type": "code",
   "execution_count": 11,
   "id": "b77f12bd-cbd4-43be-8abd-83408b8f7c9f",
   "metadata": {},
   "outputs": [
    {
     "name": "stdout",
     "output_type": "stream",
     "text": [
      "Cosine similarity between the two sentences: 0.9280\n"
     ]
    }
   ],
   "source": [
    "sentence1 = \"The queen reigns over the nation.\"\n",
    "sentence2 = \"Her Majesty leads the nation.\"\n",
    "tokens1 = preprocess(sentence1)\n",
    "vec1 = sentence_vector(tokens1, model)\n",
    "tokens2 = preprocess(sentence2)\n",
    "vec2 = sentence_vector(tokens2, model)\n",
    "\n",
    "# # Cosine similarity between the two sentence vectors\n",
    "\n",
    "\n",
    "cos_sim = np.dot(vec1, vec2) / (norm(vec1) * norm(vec2))\n",
    "print(f\"Cosine similarity between the two sentences: {cos_sim:.4f}\")\n"
   ]
  },
  {
   "cell_type": "code",
   "execution_count": null,
   "id": "45825769-9210-4e7e-8e3f-cd29d2c9a87e",
   "metadata": {},
   "outputs": [],
   "source": []
  },
  {
   "cell_type": "code",
   "execution_count": 4,
   "id": "e813442e-ec8a-4aa3-a255-1d0e8066c3cd",
   "metadata": {},
   "outputs": [
    {
     "name": "stdout",
     "output_type": "stream",
     "text": [
      "[('prince', 0.7682329416275024), ('queen', 0.7507689595222473), ('son', 0.7020888328552246), ('brother', 0.6985775828361511), ('monarch', 0.6977890729904175), ('throne', 0.691999077796936), ('kingdom', 0.6811410188674927), ('father', 0.6802029013633728), ('emperor', 0.6712858080863953), ('ii', 0.6676074266433716)]\n"
     ]
    }
   ],
   "source": [
    "print(model.most_similar('king'))"
   ]
  },
  {
   "cell_type": "code",
   "execution_count": 5,
   "id": "6551abad-14e8-40e5-b828-283876011d80",
   "metadata": {},
   "outputs": [
    {
     "name": "stdout",
     "output_type": "stream",
     "text": [
      "king - man + woman = ('queen', 0.7698541283607483)\n"
     ]
    }
   ],
   "source": [
    "# Analogy test: king - man + woman = ?\n",
    "result = model.most_similar(positive=['king', 'woman'], negative=['man'])\n",
    "\n",
    "# Print top result\n",
    "print(\"king - man + woman =\", result[0])\n"
   ]
  },
  {
   "cell_type": "code",
   "execution_count": null,
   "id": "39528f0c-0df1-4773-bd8d-877cc8f70692",
   "metadata": {},
   "outputs": [],
   "source": []
  }
 ],
 "metadata": {
  "kernelspec": {
   "display_name": "Python [conda env:base] *",
   "language": "python",
   "name": "conda-base-py"
  },
  "language_info": {
   "codemirror_mode": {
    "name": "ipython",
    "version": 3
   },
   "file_extension": ".py",
   "mimetype": "text/x-python",
   "name": "python",
   "nbconvert_exporter": "python",
   "pygments_lexer": "ipython3",
   "version": "3.12.7"
  }
 },
 "nbformat": 4,
 "nbformat_minor": 5
}
