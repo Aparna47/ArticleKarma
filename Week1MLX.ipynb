{
 "cells": [
  {
   "cell_type": "code",
   "execution_count": 1,
   "id": "f7385ecb-6a10-45a7-8fcf-37463ddeb178",
   "metadata": {},
   "outputs": [],
   "source": [
    "import pandas as pd\n",
    "df = pd.read_csv(\"~/documents/Inputs1stGen.csv\")"
   ]
  },
  {
   "cell_type": "code",
   "execution_count": 2,
   "id": "0f066768-e4be-4c6b-b2ef-5a5e11cf78a3",
   "metadata": {},
   "outputs": [
    {
     "name": "stdout",
     "output_type": "stream",
     "text": [
      "                      by   karma  \\\n",
      "0            ColinWright  127765   \n",
      "1                   hncj      44   \n",
      "2             andymboyle     714   \n",
      "3                digisth    2395   \n",
      "4                jazzdev     543   \n",
      "...                  ...     ...   \n",
      "5116176          d4vinci       1   \n",
      "5116177  giuliomagnifico   40731   \n",
      "5116178    retronick2020      78   \n",
      "5116179   ElizabethMoore       1   \n",
      "5116180          partime       0   \n",
      "\n",
      "                                                     title  \\\n",
      "0        \"What May Happen in the Next Hundred Years\", f...   \n",
      "1             Getting Started with JavaScript Unit Testing   \n",
      "2        Armstrong, the Django-based and open-source ne...   \n",
      "3                     Why Web Reviewers Make Up Bad Things   \n",
      "4        You Weren't Meant to Have a Boss: The Cliff Notes   \n",
      "...                                                    ...   \n",
      "5116176  Scrapling: Fast, Adaptive Web Scraping for Python   \n",
      "5116177                       Monkeys Predict US Elections   \n",
      "5116178                                                NaN   \n",
      "5116179                                                NaN   \n",
      "5116180                                                NaN   \n",
      "\n",
      "                                                       url  \\\n",
      "0        http://www.howtobearetronaut.com/wp-content/up...   \n",
      "1        http://blogs.lessthandot.com/index.php/WebDev/...   \n",
      "2        http://www.marketwatch.com/story/the-bay-citiz...   \n",
      "3        http://bits.blogs.nytimes.com/2013/07/15/why-w...   \n",
      "4                     http://paulgraham.com/bossnotes.html   \n",
      "...                                                    ...   \n",
      "5116176               https://github.com/D4Vinci/Scrapling   \n",
      "5116177  https://www.biorxiv.org/content/10.1101/2024.0...   \n",
      "5116178                                                NaN   \n",
      "5116179                                                NaN   \n",
      "5116180                                                NaN   \n",
      "\n",
      "                        time  score  \n",
      "0        2011-10-24 16:27:00     19  \n",
      "1        2012-01-23 11:39:25      1  \n",
      "2        2011-10-24 16:27:36      2  \n",
      "3        2013-07-16 05:16:26      1  \n",
      "4        2008-03-30 09:46:25      1  \n",
      "...                      ...    ...  \n",
      "5116176  2024-10-13 23:49:42      1  \n",
      "5116177  2024-10-13 23:53:00      1  \n",
      "5116178  2024-10-13 23:57:11      1  \n",
      "5116179  2024-10-13 23:58:18      1  \n",
      "5116180  2024-10-14 00:00:50      1  \n",
      "\n",
      "[5116181 rows x 6 columns]\n"
     ]
    }
   ],
   "source": [
    "print(df)"
   ]
  },
  {
   "cell_type": "code",
   "execution_count": 3,
   "id": "c577c4c2-baa0-4743-ae47-d5404b4be06a",
   "metadata": {},
   "outputs": [],
   "source": [
    "from datetime import datetime\n",
    "from urllib.parse import urlparse\n",
    "\n",
    "'''\n",
    "The following section gives us all the parameters relating to time:\n",
    "1. Day of week\n",
    "2. Time of day\n",
    "3. Month of Year\n",
    "4. Year of past \n",
    "'''\n",
    "\n",
    "#Converting UNIX timestamp to datetime\n",
    "df['datetime'] = pd.to_datetime(df['time'])\n",
    "\n",
    "#Getting the names of the days of the week\n",
    "df['day_of_week'] = df['datetime'].dt.day_name()\n",
    "\n",
    "#Creating a key of days of the week to numbers\n",
    "day_map = {\n",
    "    'Monday': 0, 'Tuesday': 1, 'Wednesday':2, 'Thursday':3, 'Friday':4, 'Saturday':5, 'Sunday':6\n",
    "}\n",
    "\n",
    "#Assigning numbers to the days of the week corresponding to the dataset\n",
    "df[\"day_of_week_num\"] = df['day_of_week'].map(day_map)\n",
    "\n",
    "#Creating a key of months of the year to numbers\n",
    "month_map = {\n",
    "    'January': 1, 'February': 2, 'March': 3, 'April':4, 'May': 5, 'June': 6, 'July': 7, 'August': 8, 'September': 9, 'October':10, 'November': 11, 'December': 12\n",
    "}\n",
    "\n",
    "#df['month_num'] = df['month'].map(month_map)\n",
    "\n",
    "#Getting the hour of the post\n",
    "df['hour'] = df['datetime'].dt.hour\n",
    "\n",
    "#Getting the year of the post\n",
    "df['year'] = df['datetime'].dt.year\n"
   ]
  },
  {
   "cell_type": "code",
   "execution_count": 4,
   "id": "26532795-6b37-4dd8-8bdd-a6e78cb43e0c",
   "metadata": {},
   "outputs": [
    {
     "name": "stdout",
     "output_type": "stream",
     "text": [
      "                      by   karma  \\\n",
      "0            ColinWright  127765   \n",
      "1                   hncj      44   \n",
      "2             andymboyle     714   \n",
      "3                digisth    2395   \n",
      "4                jazzdev     543   \n",
      "...                  ...     ...   \n",
      "5116176          d4vinci       1   \n",
      "5116177  giuliomagnifico   40731   \n",
      "5116178    retronick2020      78   \n",
      "5116179   ElizabethMoore       1   \n",
      "5116180          partime       0   \n",
      "\n",
      "                                                     title  \\\n",
      "0        \"What May Happen in the Next Hundred Years\", f...   \n",
      "1             Getting Started with JavaScript Unit Testing   \n",
      "2        Armstrong, the Django-based and open-source ne...   \n",
      "3                     Why Web Reviewers Make Up Bad Things   \n",
      "4        You Weren't Meant to Have a Boss: The Cliff Notes   \n",
      "...                                                    ...   \n",
      "5116176  Scrapling: Fast, Adaptive Web Scraping for Python   \n",
      "5116177                       Monkeys Predict US Elections   \n",
      "5116178                                                NaN   \n",
      "5116179                                                NaN   \n",
      "5116180                                                NaN   \n",
      "\n",
      "                                                       url  \\\n",
      "0        http://www.howtobearetronaut.com/wp-content/up...   \n",
      "1        http://blogs.lessthandot.com/index.php/WebDev/...   \n",
      "2        http://www.marketwatch.com/story/the-bay-citiz...   \n",
      "3        http://bits.blogs.nytimes.com/2013/07/15/why-w...   \n",
      "4                     http://paulgraham.com/bossnotes.html   \n",
      "...                                                    ...   \n",
      "5116176               https://github.com/D4Vinci/Scrapling   \n",
      "5116177  https://www.biorxiv.org/content/10.1101/2024.0...   \n",
      "5116178                                                NaN   \n",
      "5116179                                                NaN   \n",
      "5116180                                                NaN   \n",
      "\n",
      "                        time  score            datetime day_of_week  \\\n",
      "0        2011-10-24 16:27:00     19 2011-10-24 16:27:00      Monday   \n",
      "1        2012-01-23 11:39:25      1 2012-01-23 11:39:25      Monday   \n",
      "2        2011-10-24 16:27:36      2 2011-10-24 16:27:36      Monday   \n",
      "3        2013-07-16 05:16:26      1 2013-07-16 05:16:26     Tuesday   \n",
      "4        2008-03-30 09:46:25      1 2008-03-30 09:46:25      Sunday   \n",
      "...                      ...    ...                 ...         ...   \n",
      "5116176  2024-10-13 23:49:42      1 2024-10-13 23:49:42      Sunday   \n",
      "5116177  2024-10-13 23:53:00      1 2024-10-13 23:53:00      Sunday   \n",
      "5116178  2024-10-13 23:57:11      1 2024-10-13 23:57:11      Sunday   \n",
      "5116179  2024-10-13 23:58:18      1 2024-10-13 23:58:18      Sunday   \n",
      "5116180  2024-10-14 00:00:50      1 2024-10-14 00:00:50      Monday   \n",
      "\n",
      "         day_of_week_num  hour  year  \n",
      "0                      0    16  2011  \n",
      "1                      0    11  2012  \n",
      "2                      0    16  2011  \n",
      "3                      1     5  2013  \n",
      "4                      6     9  2008  \n",
      "...                  ...   ...   ...  \n",
      "5116176                6    23  2024  \n",
      "5116177                6    23  2024  \n",
      "5116178                6    23  2024  \n",
      "5116179                6    23  2024  \n",
      "5116180                0     0  2024  \n",
      "\n",
      "[5116181 rows x 11 columns]\n"
     ]
    }
   ],
   "source": [
    "print(df)"
   ]
  },
  {
   "cell_type": "code",
   "execution_count": 5,
   "id": "5eac54ae-e678-4ba5-b8f2-c4b7c95a6f57",
   "metadata": {},
   "outputs": [
    {
     "name": "stdout",
     "output_type": "stream",
     "text": [
      "2024-10-14 00:00:50\n"
     ]
    }
   ],
   "source": [
    "max_time = df['datetime'].max()\n",
    "print(max_time)"
   ]
  },
  {
   "cell_type": "code",
   "execution_count": 6,
   "id": "50a6eb87-f621-4557-ae6c-1ba2265a1e4c",
   "metadata": {},
   "outputs": [],
   "source": [
    "df['time_since_post1'] = max_time - df['datetime']"
   ]
  },
  {
   "cell_type": "code",
   "execution_count": 7,
   "id": "0a37c39c-d2c9-4590-ab30-06fa275b77a2",
   "metadata": {},
   "outputs": [
    {
     "name": "stdout",
     "output_type": "stream",
     "text": [
      "time_since_post1\n"
     ]
    }
   ],
   "source": [
    "print('time_since_post1')"
   ]
  },
  {
   "cell_type": "code",
   "execution_count": 8,
   "id": "38c3c575-5441-45a6-9aea-4597e7699695",
   "metadata": {},
   "outputs": [
    {
     "name": "stdout",
     "output_type": "stream",
     "text": [
      "0         4738 days 07:33:50\n",
      "1         4647 days 12:21:25\n",
      "2         4738 days 07:33:14\n",
      "3         4107 days 18:44:24\n",
      "4         6041 days 14:14:25\n",
      "                 ...        \n",
      "5116176      0 days 00:11:08\n",
      "5116177      0 days 00:07:50\n",
      "5116178      0 days 00:03:39\n",
      "5116179      0 days 00:02:32\n",
      "5116180      0 days 00:00:00\n",
      "Name: time_since_post1, Length: 5116181, dtype: timedelta64[ns]\n"
     ]
    }
   ],
   "source": [
    "print(df['time_since_post1'])"
   ]
  },
  {
   "cell_type": "code",
   "execution_count": 9,
   "id": "b0a2df4b-05ce-47b6-b453-8c456cc4ab89",
   "metadata": {},
   "outputs": [],
   "source": [
    "'''\n",
    "The following code gives us:\n",
    "2. Time since the post was posted\n",
    "'''\n",
    "\n",
    "df['time_since_post'] = df['time_since_post1'].dt.total_seconds()"
   ]
  },
  {
   "cell_type": "code",
   "execution_count": 10,
   "id": "d564d13e-0814-47d8-8cc3-54986dfb71b5",
   "metadata": {},
   "outputs": [
    {
     "name": "stdout",
     "output_type": "stream",
     "text": [
      "0          409390430.0\n",
      "1          401545285.0\n",
      "2          409390394.0\n",
      "3          354912264.0\n",
      "4          521993665.0\n",
      "              ...     \n",
      "5116176          668.0\n",
      "5116177          470.0\n",
      "5116178          219.0\n",
      "5116179          152.0\n",
      "5116180            0.0\n",
      "Name: time_since_post, Length: 5116181, dtype: float64\n"
     ]
    }
   ],
   "source": [
    "print(df['time_since_post'])"
   ]
  },
  {
   "cell_type": "code",
   "execution_count": null,
   "id": "2d433c7b-6ed7-40e3-a16e-ea54892c6348",
   "metadata": {},
   "outputs": [],
   "source": [
    "'''\n",
    "The following code gives us:\n",
    "1. URL\n",
    "2. Domain\n",
    "'''\n",
    "\n",
    "# Define a safe parser\n",
    "def safe_urlparse(url):\n",
    "    try:\n",
    "        parsed = urlparse(url)\n",
    "        return parsed.netloc, parsed.path\n",
    "    except Exception:\n",
    "        return '', ''\n",
    "\n",
    "# Apply safely\n",
    "df['url'] = df['url'].fillna('').astype(str)  # Ensure it's string\n",
    "df[['domain_name', 'url_path']] = df['url'].apply(\n",
    "    lambda u: pd.Series(safe_urlparse(u))\n",
    ")"
   ]
  },
  {
   "cell_type": "code",
   "execution_count": null,
   "id": "813127ec-43e3-4fc5-8d2c-29460b123364",
   "metadata": {},
   "outputs": [],
   "source": [
    "urlparse('')"
   ]
  },
  {
   "cell_type": "code",
   "execution_count": null,
   "id": "83995136-b25a-4ae1-b361-22772f061673",
   "metadata": {},
   "outputs": [],
   "source": [
    "print(df['url'])"
   ]
  },
  {
   "cell_type": "code",
   "execution_count": null,
   "id": "b474c7dc-7120-4bd0-a210-3637e14ad73e",
   "metadata": {},
   "outputs": [],
   "source": [
    "'''\n",
    "The following code gives us:\n",
    "1. User name\n",
    "2. Title\n",
    "3. Length of Title\n",
    "\n",
    "'''\n",
    "\n",
    "\n"
   ]
  },
  {
   "cell_type": "code",
   "execution_count": null,
   "id": "847d6b85-3155-4477-bead-e7f931dd09e3",
   "metadata": {},
   "outputs": [],
   "source": []
  }
 ],
 "metadata": {
  "kernelspec": {
   "display_name": "Python 3 (ipykernel)",
   "language": "python",
   "name": "python3"
  },
  "language_info": {
   "codemirror_mode": {
    "name": "ipython",
    "version": 3
   },
   "file_extension": ".py",
   "mimetype": "text/x-python",
   "name": "python",
   "nbconvert_exporter": "python",
   "pygments_lexer": "ipython3",
   "version": "3.12.10"
  }
 },
 "nbformat": 4,
 "nbformat_minor": 5
}
